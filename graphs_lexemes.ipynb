{
 "cells": [
  {
   "cell_type": "code",
   "execution_count": 1,
   "id": "ebece313",
   "metadata": {},
   "outputs": [],
   "source": [
    "import pandas as pd\n",
    "import networkx as nx\n",
    "import matplotlib.pyplot as plt"
   ]
  },
  {
   "cell_type": "code",
   "execution_count": 28,
   "id": "0e36a0d1",
   "metadata": {},
   "outputs": [
    {
     "data": {
      "text/html": [
       "<div>\n",
       "<style scoped>\n",
       "    .dataframe tbody tr th:only-of-type {\n",
       "        vertical-align: middle;\n",
       "    }\n",
       "\n",
       "    .dataframe tbody tr th {\n",
       "        vertical-align: top;\n",
       "    }\n",
       "\n",
       "    .dataframe thead th {\n",
       "        text-align: right;\n",
       "    }\n",
       "</style>\n",
       "<table border=\"1\" class=\"dataframe\">\n",
       "  <thead>\n",
       "    <tr style=\"text-align: right;\">\n",
       "      <th></th>\n",
       "      <th>Конфигурация</th>\n",
       "      <th>Локализация</th>\n",
       "      <th>Отношение к говорящему (ладонь)</th>\n",
       "      <th>Ориентация (ладонь)</th>\n",
       "      <th>Направление пальцев</th>\n",
       "      <th>Траекторное + / Локальное -</th>\n",
       "      <th>Направление движения</th>\n",
       "      <th>Характер движения</th>\n",
       "      <th>Повтор</th>\n",
       "    </tr>\n",
       "  </thead>\n",
       "  <tbody>\n",
       "    <tr>\n",
       "      <th>0</th>\n",
       "      <td>У</td>\n",
       "      <td>нейтральная</td>\n",
       "      <td>к говорящему</td>\n",
       "      <td>ладонь к себе</td>\n",
       "      <td>в сторону</td>\n",
       "      <td>траекторный</td>\n",
       "      <td>в сторону</td>\n",
       "      <td>по волне</td>\n",
       "      <td>нет</td>\n",
       "    </tr>\n",
       "    <tr>\n",
       "      <th>1</th>\n",
       "      <td>3</td>\n",
       "      <td>нейтральная</td>\n",
       "      <td>от говорящего</td>\n",
       "      <td>ладонь от себя</td>\n",
       "      <td>вверх</td>\n",
       "      <td>траекторный</td>\n",
       "      <td>вниз</td>\n",
       "      <td>по волне</td>\n",
       "      <td>нет</td>\n",
       "    </tr>\n",
       "    <tr>\n",
       "      <th>2</th>\n",
       "      <td>Сомкнуты в О</td>\n",
       "      <td>нейтральная</td>\n",
       "      <td>от говорящего</td>\n",
       "      <td>вниз</td>\n",
       "      <td>вниз</td>\n",
       "      <td>локальный</td>\n",
       "      <td>локальный</td>\n",
       "      <td>по прямой</td>\n",
       "      <td>да</td>\n",
       "    </tr>\n",
       "    <tr>\n",
       "      <th>3</th>\n",
       "      <td>У</td>\n",
       "      <td>нейтральная</td>\n",
       "      <td>к говорящему</td>\n",
       "      <td>ладонь к себе</td>\n",
       "      <td>в сторону</td>\n",
       "      <td>локальный</td>\n",
       "      <td>локальный</td>\n",
       "      <td>по кругу</td>\n",
       "      <td>нет</td>\n",
       "    </tr>\n",
       "    <tr>\n",
       "      <th>4</th>\n",
       "      <td>Сомкнуты в О</td>\n",
       "      <td>нейтральная</td>\n",
       "      <td>от говорящего</td>\n",
       "      <td>вниз</td>\n",
       "      <td>вниз</td>\n",
       "      <td>траекторный</td>\n",
       "      <td>в сторону</td>\n",
       "      <td>по волне</td>\n",
       "      <td>нет</td>\n",
       "    </tr>\n",
       "  </tbody>\n",
       "</table>\n",
       "</div>"
      ],
      "text/plain": [
       "0  Конфигурация  Локализация Отношение к говорящему (ладонь)  \\\n",
       "0             У  нейтральная                    к говорящему   \n",
       "1             3  нейтральная                   от говорящего   \n",
       "2  Сомкнуты в О  нейтральная                   от говорящего   \n",
       "3             У  нейтральная                    к говорящему   \n",
       "4  Сомкнуты в О  нейтральная                   от говорящего   \n",
       "\n",
       "0 Ориентация (ладонь) Направление пальцев Траекторное + / Локальное -  \\\n",
       "0       ладонь к себе           в сторону                 траекторный   \n",
       "1      ладонь от себя               вверх                 траекторный   \n",
       "2                вниз                вниз                   локальный   \n",
       "3       ладонь к себе           в сторону                   локальный   \n",
       "4                вниз                вниз                 траекторный   \n",
       "\n",
       "0 Направление движения Характер движения Повтор  \n",
       "0            в сторону          по волне    нет  \n",
       "1                 вниз          по волне    нет  \n",
       "2            локальный         по прямой     да  \n",
       "3            локальный          по кругу    нет  \n",
       "4            в сторону          по волне    нет  "
      ]
     },
     "execution_count": 28,
     "metadata": {},
     "output_type": "execute_result"
    }
   ],
   "source": [
    "# загружаем данные\n",
    "\n",
    "file_path = \"final_marker.csv\"\n",
    "\n",
    "data = pd.read_csv(file_path, header=None, encoding='utf-8')\n",
    "data.columns = data.iloc[0]\n",
    "data = data.drop(0).reset_index(drop=True)\n",
    "\n",
    "data.head()"
   ]
  },
  {
   "cell_type": "code",
   "execution_count": 29,
   "id": "66bac90a",
   "metadata": {},
   "outputs": [],
   "source": [
    "# создаем граф, в котором каждый вариант жеста - вершина\n",
    "\n",
    "G = nx.Graph()\n",
    "for i in range(len(data)):\n",
    "    G.add_node(i+1)"
   ]
  },
  {
   "cell_type": "code",
   "execution_count": 30,
   "id": "7d934ca5",
   "metadata": {},
   "outputs": [],
   "source": [
    "# удаляем параметры, который не рассматриваем при построении графа\n",
    "\n",
    "data = data.drop('Отношение к говорящему (ладонь)', axis=1)\n",
    "data = data.drop('Траекторное + / Локальное -', axis=1)"
   ]
  },
  {
   "cell_type": "code",
   "execution_count": 31,
   "id": "e979aaf6",
   "metadata": {},
   "outputs": [],
   "source": [
    "# функция для подсчета различий между двумя вариантами жеста\n",
    "\n",
    "def count_differences(row1, row2):\n",
    "    count = 0\n",
    "    for i in range(len(row1)):\n",
    "        if row1[i] != row2[i]:\n",
    "            count += 1\n",
    "    return count"
   ]
  },
  {
   "cell_type": "code",
   "execution_count": 32,
   "id": "e311cfd3",
   "metadata": {},
   "outputs": [],
   "source": [
    "# если различие ровно 1 или его нет, то проводим ребро \n",
    "\n",
    "for i in range(len(data)):\n",
    "    for j in range(i+1, len(data)):\n",
    "        if count_differences(data.iloc[i], data.iloc[j]) == 1 or count_differences(data.iloc[i], data.iloc[j]) == 0:\n",
    "            G.add_edge(i+1, j+1)"
   ]
  },
  {
   "cell_type": "code",
   "execution_count": 33,
   "id": "9991f92e",
   "metadata": {},
   "outputs": [],
   "source": [
    "# выделяем из графа все циклы\n",
    "\n",
    "G_directed = nx.DiGraph(G)\n",
    "c = nx.simple_cycles(G_directed)\n",
    "cycle_sets = []\n",
    "for i in c:\n",
    "    if set(i) not in cycle_sets:\n",
    "        cycle_sets.append(set(i))\n",
    "\n",
    "cycle_unique = []\n",
    "for i in cycle_sets:\n",
    "    if len(i) > 2:\n",
    "        ind = 0\n",
    "        for j in cycle_sets:\n",
    "            if i.issubset(j) and i!=j:\n",
    "                ind = 1\n",
    "        if ind == 0 :\n",
    "            cycle_unique.append(i)"
   ]
  },
  {
   "cell_type": "code",
   "execution_count": 35,
   "id": "728735f6",
   "metadata": {},
   "outputs": [
    {
     "data": {
      "text/plain": [
       "{1, 3, 5, 6, 15, 18, 22, 29, 33}"
      ]
     },
     "execution_count": 35,
     "metadata": {},
     "output_type": "execute_result"
    }
   ],
   "source": [
    "# находим все вершины, которые участвуют в циклах\n",
    "\n",
    "cycle_unique_nodes = set()\n",
    "for i in cycle_unique:\n",
    "    for j in i:\n",
    "        cycle_unique_nodes.add(j)\n",
    "\n",
    "cycle_unique_nodes"
   ]
  },
  {
   "cell_type": "code",
   "execution_count": 36,
   "id": "52ab235a",
   "metadata": {},
   "outputs": [],
   "source": [
    "# находим все прочие вершины\n",
    "other_nodes = []\n",
    "for n in G.nodes:\n",
    "    if n not in cycle_unique_nodes:\n",
    "        other_nodes.append(n)"
   ]
  },
  {
   "cell_type": "code",
   "execution_count": 39,
   "id": "e6313391",
   "metadata": {},
   "outputs": [
    {
     "data": {
      "text/plain": [
       "[{5, 18, 29},\n",
       " {3, 22, 33},\n",
       " {1, 6, 15},\n",
       " {4},\n",
       " {9},\n",
       " {10},\n",
       " {12},\n",
       " {13},\n",
       " {14},\n",
       " {16},\n",
       " {17},\n",
       " {19},\n",
       " {21},\n",
       " {23},\n",
       " {25},\n",
       " {26},\n",
       " {27},\n",
       " {30},\n",
       " {31},\n",
       " {32},\n",
       " {34},\n",
       " {37},\n",
       " {38},\n",
       " {39},\n",
       " {40},\n",
       " {43},\n",
       " {45},\n",
       " {46},\n",
       " {47},\n",
       " {48},\n",
       " {1, 8},\n",
       " {2, 41},\n",
       " {3, 11},\n",
       " {5, 7},\n",
       " {11, 36},\n",
       " {20, 28},\n",
       " {24, 35},\n",
       " {42, 44}]"
      ]
     },
     "execution_count": 39,
     "metadata": {},
     "output_type": "execute_result"
    }
   ],
   "source": [
    "# список всех лексем\n",
    "all_lexemas = []\n",
    "\n",
    "# добавляем все циклы в лексемы\n",
    "for l in cycle_unique:\n",
    "    all_lexemas.append(l)\n",
    "\n",
    "# находим все прочие вершины, у которых есть ребра. Те у которых нет добавляем как отдельные лексемы\n",
    "other_lexemas_nodes = []\n",
    "for n in other_nodes:\n",
    "    if len(G[n]) == 0:\n",
    "        all_lexemas.append(set([n]))\n",
    "    else:\n",
    "        other_lexemas_nodes.append(n)\n",
    "\n",
    "for e in G.edges:\n",
    "    if e[0] in other_lexemas_nodes or e[1] in other_lexemas_nodes:\n",
    "        all_lexemas.append(set(e))\n",
    "all_lexemas"
   ]
  },
  {
   "cell_type": "code",
   "execution_count": null,
   "id": "294a7823",
   "metadata": {},
   "outputs": [],
   "source": []
  }
 ],
 "metadata": {
  "kernelspec": {
   "display_name": "Python 3 (ipykernel)",
   "language": "python",
   "name": "python3"
  },
  "language_info": {
   "codemirror_mode": {
    "name": "ipython",
    "version": 3
   },
   "file_extension": ".py",
   "mimetype": "text/x-python",
   "name": "python",
   "nbconvert_exporter": "python",
   "pygments_lexer": "ipython3",
   "version": "3.11.3"
  }
 },
 "nbformat": 4,
 "nbformat_minor": 5
}
